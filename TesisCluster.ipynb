{
 "cells": [
  {
   "cell_type": "markdown",
   "metadata": {},
   "source": [
    "# [Modelo] Segmentación K-Means"
   ]
  },
  {
   "cell_type": "markdown",
   "metadata": {},
   "source": [
    "### 1. Librerias: Cargamos las librerias que utilizaremos"
   ]
  },
  {
   "cell_type": "code",
   "execution_count": 32,
   "metadata": {
    "pycharm": {
     "is_executing": true
    }
   },
   "outputs": [],
   "source": [
    "import pandas as pd\n",
    "import numpy as np\n",
    "import matplotlib.pyplot as plt\n",
    "import seaborn as sns\n",
    "import csv\n",
    "from data_processing.Clean_data import clean, tokenize, spanish_stopwords\n",
    "from sklearn.feature_extraction.text import CountVectorizer\n",
    "from sklearn.feature_extraction.text import TfidfTransformer\n",
    "from sklearn.pipeline import Pipeline\n",
    "from sklearn.model_selection import GridSearchCV\n",
    "import joblib\n",
    "\n",
    "%matplotlib inline\n",
    "plt.rcParams['figure.figsize'] = (7, 4)\n",
    "plt.style.use('ggplot')"
   ]
  },
  {
   "cell_type": "markdown",
   "metadata": {},
   "source": [
    "### 2. Extracción Base de datos: Cargamos nuestra base de datos"
   ]
  },
  {
   "cell_type": "code",
   "execution_count": 12,
   "metadata": {
    "pycharm": {
     "is_executing": true
    }
   },
   "outputs": [
    {
     "name": "stdout",
     "output_type": "stream",
     "text": [
      "                                          PARAMETROS            UNIDAD_ORG  \\\n",
      "0  NOTIFICA DISPOSICIÓN , REFERENTE AL CASO N°300...  PROCURADURIA PUBLICA   \n",
      "1   (SE PROCEDE A FINALIZAR LAS NOTIFICACIONES DE...                   NaN   \n",
      "2   (BOUCHER Y ACTAS DE AUDIENCIA ANEXADAS EN SU ...                   NaN   \n",
      "3  FISCALÍA SUPRAPROVINCIAL CORPORATIVA ESPECIALI...  DESPACHO MINISTERIAL   \n",
      "4  FISCALÍA SUPRAPROVINCIAL CORPORATIVA ESPECIALI...  DESPACHO MINISTERIAL   \n",
      "\n",
      "                                           RESPUESTA  \n",
      "0  ATENDIDAS Y DERIVADAS AL ÁREA DE SEGURIDAD PUB...  \n",
      "1                                                NaN  \n",
      "2                                                NaN  \n",
      "3  OFICIO DIRIGIDO A LA FISCALÍA SUPRAPROVINCIAL ...  \n",
      "4  ANGELIA ELIZABETH ZULOAGA BAYES - FISCAL ADJUN...  \n"
     ]
    }
   ],
   "source": [
    "dataFramePre = pd.read_csv(\"training_data/TRAIN_CLUSTER3.tsv\", sep='\\t', quoting=csv.QUOTE_NONE, header=0)\n",
    "print(dataFramePre.head())"
   ]
  },
  {
   "cell_type": "code",
   "execution_count": null,
   "metadata": {},
   "outputs": [],
   "source": [
    "# Delete NAN"
   ]
  },
  {
   "cell_type": "code",
   "execution_count": 13,
   "metadata": {},
   "outputs": [
    {
     "data": {
      "text/html": [
       "<div>\n",
       "<style scoped>\n",
       "    .dataframe tbody tr th:only-of-type {\n",
       "        vertical-align: middle;\n",
       "    }\n",
       "\n",
       "    .dataframe tbody tr th {\n",
       "        vertical-align: top;\n",
       "    }\n",
       "\n",
       "    .dataframe thead th {\n",
       "        text-align: right;\n",
       "    }\n",
       "</style>\n",
       "<table border=\"1\" class=\"dataframe\">\n",
       "  <thead>\n",
       "    <tr style=\"text-align: right;\">\n",
       "      <th></th>\n",
       "      <th>PARAMETROS</th>\n",
       "      <th>UNIDAD_ORG</th>\n",
       "      <th>RESPUESTA</th>\n",
       "    </tr>\n",
       "  </thead>\n",
       "  <tbody>\n",
       "    <tr>\n",
       "      <td>0</td>\n",
       "      <td>NOTIFICA DISPOSICIÓN , REFERENTE AL CASO N°300...</td>\n",
       "      <td>PROCURADURIA PUBLICA</td>\n",
       "      <td>ATENDIDAS Y DERIVADAS AL ÁREA DE SEGURIDAD PUB...</td>\n",
       "    </tr>\n",
       "    <tr>\n",
       "      <td>3</td>\n",
       "      <td>FISCALÍA SUPRAPROVINCIAL CORPORATIVA ESPECIALI...</td>\n",
       "      <td>DESPACHO MINISTERIAL</td>\n",
       "      <td>OFICIO DIRIGIDO A LA FISCALÍA SUPRAPROVINCIAL ...</td>\n",
       "    </tr>\n",
       "    <tr>\n",
       "      <td>4</td>\n",
       "      <td>FISCALÍA SUPRAPROVINCIAL CORPORATIVA ESPECIALI...</td>\n",
       "      <td>DESPACHO MINISTERIAL</td>\n",
       "      <td>ANGELIA ELIZABETH ZULOAGA BAYES - FISCAL ADJUN...</td>\n",
       "    </tr>\n",
       "    <tr>\n",
       "      <td>5</td>\n",
       "      <td>REMITE VAOUCHER DE PAGO POR PRINCIPIO DE OPORT...</td>\n",
       "      <td>PROCURADURIA PUBLICA</td>\n",
       "      <td>NOTIFICACIONES ASIGNADAS AL ÁREA PENAL , CONDU...</td>\n",
       "    </tr>\n",
       "    <tr>\n",
       "      <td>7</td>\n",
       "      <td>LA FISCALIA SUPRAPRONVINCIAL CORPORATIVA ESPEC...</td>\n",
       "      <td>DESPACHO MINISTERIAL</td>\n",
       "      <td>ANGELA ELIZABETH ZULOAGA BAYES - FISCAL ADJUNT...</td>\n",
       "    </tr>\n",
       "  </tbody>\n",
       "</table>\n",
       "</div>"
      ],
      "text/plain": [
       "                                          PARAMETROS            UNIDAD_ORG  \\\n",
       "0  NOTIFICA DISPOSICIÓN , REFERENTE AL CASO N°300...  PROCURADURIA PUBLICA   \n",
       "3  FISCALÍA SUPRAPROVINCIAL CORPORATIVA ESPECIALI...  DESPACHO MINISTERIAL   \n",
       "4  FISCALÍA SUPRAPROVINCIAL CORPORATIVA ESPECIALI...  DESPACHO MINISTERIAL   \n",
       "5  REMITE VAOUCHER DE PAGO POR PRINCIPIO DE OPORT...  PROCURADURIA PUBLICA   \n",
       "7  LA FISCALIA SUPRAPRONVINCIAL CORPORATIVA ESPEC...  DESPACHO MINISTERIAL   \n",
       "\n",
       "                                           RESPUESTA  \n",
       "0  ATENDIDAS Y DERIVADAS AL ÁREA DE SEGURIDAD PUB...  \n",
       "3  OFICIO DIRIGIDO A LA FISCALÍA SUPRAPROVINCIAL ...  \n",
       "4  ANGELIA ELIZABETH ZULOAGA BAYES - FISCAL ADJUN...  \n",
       "5  NOTIFICACIONES ASIGNADAS AL ÁREA PENAL , CONDU...  \n",
       "7  ANGELA ELIZABETH ZULOAGA BAYES - FISCAL ADJUNT...  "
      ]
     },
     "execution_count": 13,
     "metadata": {},
     "output_type": "execute_result"
    }
   ],
   "source": [
    "dataFramePre = dataFramePre.dropna()\n",
    "dataFramePre.head()"
   ]
  },
  {
   "cell_type": "code",
   "execution_count": null,
   "metadata": {},
   "outputs": [],
   "source": [
    "# Dimension del dataframe"
   ]
  },
  {
   "cell_type": "code",
   "execution_count": 14,
   "metadata": {},
   "outputs": [
    {
     "data": {
      "text/plain": [
       "(3747, 3)"
      ]
     },
     "execution_count": 14,
     "metadata": {},
     "output_type": "execute_result"
    }
   ],
   "source": [
    "dataFramePre.shape"
   ]
  },
  {
   "cell_type": "code",
   "execution_count": null,
   "metadata": {
    "pycharm": {
     "is_executing": true
    }
   },
   "outputs": [],
   "source": [
    "# Limpiando la data"
   ]
  },
  {
   "cell_type": "code",
   "execution_count": 15,
   "metadata": {
    "pycharm": {
     "is_executing": true
    }
   },
   "outputs": [
    {
     "name": "stdout",
     "output_type": "stream",
     "text": [
      "0       NOTIFICA DISPOSICIÓN , REFERENTE AL CASO N°300...\n",
      "3       FISCALÍA SUPRAPROVINCIAL CORPORATIVA ESPECIALI...\n",
      "4       FISCALÍA SUPRAPROVINCIAL CORPORATIVA ESPECIALI...\n",
      "5       REMITE VAOUCHER DE PAGO POR PRINCIPIO DE OPORT...\n",
      "7       LA FISCALIA SUPRAPRONVINCIAL CORPORATIVA ESPEC...\n",
      "                              ...                        \n",
      "5816    BANDEJA DIGITAL: EN REFERENCIA AL OFICIO N° D0...\n",
      "5822     HUAROCHIRI. (CORREO: LPINEDOA@CONGRESO.GOB.PE...\n",
      "5823    TRASLADA COMUNICACIÓN PRESENTADA POR EL CIUDAD...\n",
      "5824    BANDEJA DIGITAL: 1 SOLICITA PUBLICACIÓN OFICIA...\n",
      "5826    OFICIO DE REQUERIMIENTO DE INFORMACIÓN - SUB G...\n",
      "Name: PARAMETROS, Length: 3747, dtype: object\n"
     ]
    }
   ],
   "source": [
    "#dataFramePre['PARAMETROS'] = dataFramePre['PARAMETROS'].map(lambda text: clean(text))\n",
    "subject = dataFramePre['PARAMETROS']\n",
    "print(subject)"
   ]
  },
  {
   "cell_type": "code",
   "execution_count": null,
   "metadata": {
    "pycharm": {
     "is_executing": true
    }
   },
   "outputs": [],
   "source": [
    "# Vectorizando "
   ]
  },
  {
   "cell_type": "code",
   "execution_count": 16,
   "metadata": {
    "pycharm": {
     "is_executing": true
    }
   },
   "outputs": [
    {
     "name": "stdout",
     "output_type": "stream",
     "text": [
      "['aba', 'abad', 'abalministeri', 'abancay', 'abandon', 'abant', 'abastec', 'abdi', 'abel', 'abenit', 'abgministeri', 'abiert', 'abit', 'abner', 'abon', 'abord', 'abordaj', 'abraham', 'abre', 'abril', 'absalon', 'absten', 'abstencion', 'absuelv', 'abtencion', 'abus', 'abvancay', 'acab', 'acaci', 'academ', 'acaec', 'acat', 'aced', 'aceler', 'acerc', 'acerv', 'aces', 'acha', 'achay', 'acident', 'aciert', 'acion', 'acionari', 'aclaracion', 'acob', 'acobamb', 'acog', 'acomay', 'acompan', 'acongres', 'acontralori', 'acopallp', 'acord', 'acos', 'acost', 'acr', 'acre', 'acredit', 'acreditacion', 'acta', 'actas', 'activ', 'acto', 'actos', 'actu', 'actuacion', 'actual', 'actualiz', 'actualizacion', 'acuat', 'acuerd', 'acumul', 'acumulacion', 'acumuladaspcm', 'adecu', 'adelant', 'adem', 'adend', 'adendasministeri', 'adeolart', 'aderly', 'aderson', 'adhesion', 'adicional', 'adj', 'adjudicacion', 'adjungt', 'adjunt', 'adjuntacongres', 'adjunti', 'adjuntoministeri', 'adjuntopcm', 'administr', 'administracion', 'adminsitr', 'adob', 'adolescent', 'adolf', 'adonis', 'adopcion', 'adopt', 'adp', 'adquir', 'adquisicion', 'adquisicionesministeri', 'adri', 'adrian', 'adu', 'aduaner', 'adult', 'advers', 'adversascontralori', 'adyacent', 'aen', 'aer', 'aere', 'aereopuert', 'aerocontinent', 'aerodrom', 'aerolin', 'aeroline', 'aeronaut', 'aeronav', 'aeroperu', 'aeroperupcm', 'aeroportuari', 'aeropuert', 'afb', 'afect', 'afectacion', 'afernandezc', 'afich', 'afiliacion', 'afin', 'afinpcm', 'afocat', 'afor', 'afront', 'afroperuan', 'agarvi', 'agenci', 'agend', 'agent', 'agilbert', 'agilic', 'agobi', 'agost', 'agradec', 'agrari', 'agrav', 'agravadoministeri', 'agravi', 'agricultur', 'agu', 'aguachini', 'aguachinicongres', 'aguayti', 'aguil', 'aguinag', 'aguirr', 'aguirreministeri', 'agustin', 'agy', 'ahidalg', 'ahor', 'ahz', 'aij', 'air', 'airhsp', 'airhspministeri', 'airlin', 'aislamient', 'ala', 'alah', 'alain', 'alarcon', 'alay', 'alberg', 'albert', 'albin', 'albornoz', 'albornozministeri', 'alc', 'alcald', 'alcaldes', 'alcanc', 'alcant', 'alcantar', 'alcantaraministeri', 'alcantarill', 'alcanz', 'alcarraz', 'alcid', 'alcohol', 'alcongres', 'aldanil', 'alde', 'aldo', 'aleatori', 'aledan', 'aleg', 'alegr', 'alej', 'alejandr', 'alencastr', 'alesandr', 'alex', 'alexand', 'alexis', 'alfabetizacion', 'alfred', 'alfredoministeri', 'aliag', 'aliagaministeri', 'alianz', 'alici', 'aliment', 'alimentacion', 'alimentari', 'alivi', 'allinbus', 'almac', 'almercoministeri', 'almir', 'alons', 'aloyol', 'alpamarc', 'alpcm', 'alt', 'alta', 'alter', 'altern', 'altiplan', 'alto', 'altur', 'alun', 'alvan', 'alvar', 'alvarez', 'alvarezministeri', 'alvinoministeri', 'amador', 'amapar', 'amarill', 'amasifu', 'amaspi', 'amat', 'amazon', 'amazoni', 'amazonicacontralori', 'amb', 'ambar', 'ambient', 'ambiental', 'ambientalministeri', 'ambit', 'ambo', 'amcongres', 'amer', 'americatel', 'amgul', 'aministeri', 'amor', 'amorin', 'amorrortu', 'amp', 'ampar', 'ampcm', 'ampli', 'ampliacion', 'ampliatori', 'ampudi', 'amuvra', 'ana', 'anacash', 'anad', 'analisis', 'analiz', 'analog', 'ancash', 'ancashcongres', 'ancashministeri', 'ancha', 'anchas', 'ancho', 'ancon', 'anda', 'andahuayl', 'andahuaylasministeri', 'andamarc', 'anderson', 'andes', 'andhuayl', 'andin', 'ando', 'andres', 'andron', 'andy', 'anex', 'angel', 'anibal', 'anill', 'animon', 'anip', 'anit', 'aniv', 'aniversari', 'ano', 'anos', 'anselm', 'ant', 'anta', 'antabamb', 'antecedent', 'anten', 'antepuert', 'anticorrupcion', 'antigued', 'antioqui', 'antoni', 'antonioministeri', 'antony', 'anual', 'anuc', 'anulacion', 'apaccllaministeri', 'apam', 'apaz', 'apdayc', 'apelacion', 'apercib', 'aperson', 'apertur', 'aplic', 'aplicacion', 'apm', 'apn', 'apoloni', 'aport', 'apostolministeri', 'apoy', 'apreciacion', 'aprend', 'aprendizaj', 'aprob', 'aprobacion', 'aprobadospcm', 'aproxim', 'aprueb', 'aptc', 'apurimac', 'apurimacongres', 'aquell', 'aragon', 'aramay', 'arap', 'araujoministeri', 'arbitr', 'arbitral', 'arbitrari', 'arbitri', 'arcas', 'arce', 'arcedespach', 'arcel', 'archiv', 'archives', 'are', 'aren', 'arenal', 'arequip', 'arevaloministeri', 'arhuir', 'ari', 'arist', 'aristid', 'armand', 'armas', 'arnald', 'arnold', 'arocen', 'aron', 'arranc', 'arrib', 'artesan', 'artesanal', 'articul', 'artist', 'arzapal', 'asal', 'asamble', 'ascam', 'ascensor', 'ascidebr', 'asciend', 'ascop', 'asegur', 'asenj', 'asent', 'asesor', 'asesori', 'aset', 'asfalt', 'asi', 'asient', 'asign', 'asignacion', 'asilll', 'asim', 'asimims', 'asistencial', 'asistent', 'asisti', 'asoc', 'asoci', 'asociacion', 'aspect', 'asprotenac', 'asum', 'asuncion', 'asunt', 'asvipanc', 'atalay', 'atanaci', 'atapom', 'atcrj', 'ate', 'atencion', 'atend', 'atent', 'atenu', 'atiend', 'atiquip', 'atiz', 'atoministeri', 'atosh', 'atraves', 'atravies', 'atu', 'aucayacu', 'audi', 'audienci', 'audiendi', 'audiovisual', 'audit', 'auditori', 'auguri', 'august', 'aurahu', 'aureli', 'ausej', 'aut', 'autent', 'autentic', 'autofinanci', 'autograf', 'automat', 'automotor', 'automoviels', 'automovil', 'autop', 'autor', 'autori', 'autoric', 'autoriz', 'autorizacion', 'autrizacion', 'auxili', 'aval', 'avanc', 'avanz', 'avelin', 'aven', 'aviacion', 'avianc', 'avion', 'awajun', 'ayabac', 'ayacuch', 'ayacuchopcm', 'ayahuac', 'ayal', 'ayast', 'ayaviri', 'ayawak', 'ayna', 'ayotun', 'ayquip', 'azan', 'azangar', 'azangarocontralori', 'azorrilladj', 'azul', 'bac', 'bacili', 'bacilioministeri', 'bailey', 'baj', 'balcaz', 'baldeon', 'baldoced', 'bambamarc', 'bambamarquin', 'ban', 'banc', 'band', 'bandej', 'banosministeri', 'baq', 'barb', 'barranc', 'barrant', 'barret', 'barrient', 'barrig', 'barruet', 'barzol', 'bas', 'basic', 'basili', 'bastenciond', 'batall', 'bauch', 'bautist', 'bayon', 'bayonaministeri', 'bayov', 'bedoyaministeri', 'bel', 'belgic', 'bell', 'bellav', 'benanci', 'benavid', 'bendezu', 'benefici', 'beneficiari', 'benign', 'benit', 'benjamin', 'benzaqu', 'benzaquenministeri', 'beraunministeri', 'berlin', 'bermej', 'bermudez', 'bermudezministeri', 'bernard', 'bernardin', 'berri', 'berrospi', 'biav', 'bicentenari', 'biciclet', 'bien', 'bienespcm', 'bingh', 'biocean', 'biomed', 'biosegur', 'bitel', 'bjo', 'blanc', 'blic', 'bloqu', 'bmeji', 'bministeri', 'bmunozdj', 'bocanegr', 'bogian', 'boliv', 'bolivi', 'bolognesi', 'bon', 'bong', 'bonifaci', 'bonill', 'bord', 'borj', 'bouch', 'brandon', 'brasil', 'brasilcongres', 'brasilen', 'brav', 'bravoministeri', 'brayams', 'brech', 'bretan', 'brev', 'breved', 'brevet', 'bricen', 'brind', 'brion', 'briseth', 'brot', 'brun', 'bryan', 'bsreategui', 'buen', 'burg', 'bus', 'bustam', 'bustamanteministeri', 'buz', 'cab', 'caballer', 'caballeroministeri', 'caballococh', 'caban', 'cabanill', 'cabanillasministeri', 'cabell', 'cabez', 'cabiaministeri', 'cabin', 'cabl', 'cabrer', 'caburtodj', 'cacabalit', 'caced', 'cacer', 'cachay', 'cachi', 'cachiyaurec', 'cad', 'cadet', 'cadmalc', 'caj', 'cajabamb', 'cajahuanc', 'cajamarc', 'cajamarcacongres', 'cajamarcapcm', 'calapuj', 'calc', 'calderon', 'caler', 'caleroministeri', 'calicat', 'calid', 'calific', 'calificadoministeri', 'call', 'calla', 'callaocongres', 'callaopcm', 'callayuc', 'calz', 'cam', 'camach', 'camachoministeri', 'caman', 'cambi', 'camil', 'camill', 'camin', 'camion', 'camn', 'camon', 'camp', 'campan', 'campanill', 'campesin', 'campoministeri', 'can', 'canahu', 'canal', 'canalic', 'canasministeri', 'canast', 'cancel', 'cancelacion', 'canchis', 'candi', 'canet', 'canon', 'cant', 'cantalici', 'canter', 'capac', 'capacitacion', 'capacmarc', 'capch', 'capchaministeri', 'capill', 'capillapamp', 'capiron', 'capital', 'caqui', 'carabay', 'carabayll', 'caract', 'caracterist', 'caral', 'carbajal', 'carball', 'carcam', 'carden', 'caret', 'carg', 'cargocongres', 'carhuanc', 'carhuanch', 'carhuapom', 'carhuatant', 'carhuaz', 'carigaministeri', 'carit', 'carl', 'carm', 'carolin', 'carpaministeri', 'carpat', 'carpet', 'carranz', 'carrer', 'carreter', 'carretr', 'carrill', 'carrilloministeri', 'carrion', 'carroz', 'cart', 'carter', 'cas', 'caseri', 'casi', 'casill', 'casimir', 'casimiroministeri', 'casit', 'casm', 'casmich', 'castaned', 'castanedaministeri', 'castellan', 'castill', 'castilloministeri', 'castr', 'castrovirreyn', 'cat', 'catac', 'catachepcm', 'catacor', 'catalog', 'catalogodefensori', 'catarat', 'catastrof', 'categori', 'catilluc', 'caus', 'cautel', 'cay', 'cayalti', 'cayc', 'cayetan', 'cayetanoministeri', 'cayguaray', 'cayllom', 'caynarachi', 'cbarranzuel', 'cdcontralori', 'cdpcm', 'cechcapamp', 'cecili', 'cedul', 'cedulasd', 'celebr', 'celebracion', 'celendin', 'celestin', 'celis', 'cels', 'celul', 'cement', 'cementeri', 'cene', 'cenep', 'centr', 'central', 'cerc', 'cerced', 'ceremoni', 'cerf', 'cerr', 'cerron', 'certif', 'certific', 'certificacion', 'ces', 'cesare', 'cesari', 'cesion', 'cesip', 'cesped', 'cespedezministeri', 'cevall', 'cfloresg', 'cgm', 'cgr', 'chacabamb', 'chacay', 'chachapoy', 'chaclacay', 'chahu', 'chalamanc', 'chalamarc', 'challhu', 'chamay', 'chambill', 'chancay', 'chancaypcm', 'chang', 'chapis', 'chaquicoch', 'charit', 'chasqui', 'chaupis', 'chavarri', 'chavarry', 'chavez', 'chavezcongres', 'chavezministeri', 'chec', 'checall', 'chen', 'chicam', 'chiclay', 'chiguay', 'chiguirip', 'chikunguny', 'chilet', 'chilin', 'chimbot', 'chimu', 'chin', 'chinch', 'chinchay', 'chincher', 'chip', 'chipan', 'chipl', 'chiric', 'chisquill', 'chisquillaprovinci', 'chontali', 'chontay', 'choqu', 'chorill', 'choropamp', 'chorrill', 'chosic', 'chot', 'chotan', 'christi', 'chuc', 'chumbivilc', 'chung', 'chuntan', 'chupac', 'chupur', 'chuquibamb', 'chuquimbabill', 'churampi', 'churcamp', 'churin', 'ciaci', 'ciadi', 'ciat', 'ciclist', 'ciclovi', 'cidep', 'cieneguill', 'cierr', 'ciert', 'ciertoministeri', 'cinc', 'cir', 'circuit', 'circul', 'circulacion', 'circunst', 'ciril', 'cirugi', 'cisner', 'cistern', 'cit', 'citacion', 'cites', 'ciud', 'ciudad', 'ciudadan', 'ciudadanopcm', 'civic', 'civil', 'cjamarcq', 'clar', 'clas', 'claudi', 'clausul', 'clav', 'clerk', 'cleseri', 'clet', 'clev', 'climatizacion', 'cliseyel', 'clotild', 'cloudministeri', 'cmsv', 'cnater', 'cnt', 'coactiv', 'cobertur', 'cobr', 'coch', 'cochabamb', 'cochachiministeri', 'cochamai', 'cod', 'codec', 'codgi', 'codig', 'coent', 'cohesion', 'coip', 'cojat', 'col', 'colaboracion', 'colay', 'colect', 'colegi', 'coll', 'collachagu', 'collachahu', 'colombi', 'colombiacongres', 'colpapamp', 'colquemarc', 'colusion', 'combin', 'combust', 'comentari', 'comerci', 'comercial', 'comet', 'comisari', 'comision', 'comit', 'compani', 'compat', 'competenciacongres', 'competent', 'competit', 'complej', 'complement', 'complementari', 'complet', 'component', 'compr', 'compred', 'comprend', 'comprob', 'compromet', 'compromis', 'compuls', 'comput', 'comun', 'comunic', 'comunicacion', 'comunicacionescongres', 'comunicacionesdespach', 'comunicacionespcm', 'comunitari', 'concecuent', 'conced', 'concepcion', 'concept', 'concernient', 'concertacion', 'concesion', 'concesionari', 'conch', 'conchuc', 'conciliacion', 'concimient', 'conclu', 'concret', 'concurrent', 'concurrentecontralori', 'concurret', 'concurs', 'condez', 'condezoministeri', 'condicion', 'condiuc', 'condomarc', 'condonacion', 'condorcanqui', 'condorcoch', 'condori', 'condormarc', 'conduc', 'conducion', 'conduct', 'conductor', 'conect', 'conectv', 'conexion', 'conf', 'confederacion', 'conferent', 'confianz', 'confidencial', 'confinanci', 'confirm', 'confirmacion', 'conflict', 'confluenci', 'conform', 'conformacion', 'congres', 'congresal', 'congresistanapoleon', 'conjunt', 'conoc', 'conocimient', 'conocimientoministeri', 'conocimienton', 'consecuent', 'consej', 'consejer', 'consent', 'conservacion', 'consider', 'consideracion', 'consistent', 'consistorial', 'consorci', 'constanci', 'constanciaministeri', 'constat', 'constatacion', 'constitu', 'constitucion', 'constitucional', 'constru', 'construcion', 'construction', 'constructor', 'consult', 'consultor', 'consultori', 'consum', 'consumidor', 'consumidorpcm', 'cont', 'contabl', 'contagi', 'contaminacion', 'contempl', 'conten', 'contenci', 'contencion', 'context', 'contien', 'contingent', 'continu', 'continuacion', 'continuacionpcm', 'contractual', 'contralori', 'contraprestacion', 'contrat', 'contratacion', 'contratoministeri', 'contratosministeri', 'contrer', 'contrerasministeri', 'contreversi', 'contribu', 'contribucion', 'contribuyent', 'control', 'controversi', 'controvert', 'conval', 'convecion', 'convencion', 'conveni', 'convenient', 'convoc', 'convocatori', 'convoqu', 'cop', 'copam', 'coperacion', 'copi', 'copror', 'cor', 'corden', 'cordial', 'cordin', 'cordinacion', 'cordinacioncongres', 'cordov', 'core', 'cori', 'coris', 'cornej', 'corneli', 'cornelioministeri', 'coronavirus', 'coronel', 'corong', 'coropor', 'corp', 'corpac', 'corpor', 'corporacion', 'corporation', 'corproat', 'corr', 'corral', 'corre', 'correct', 'corredor', 'correspond', 'correspondient', 'corrient', 'corrij', 'corrpor', 'corruccion', 'corrucion', 'corrupcion', 'cort', 'cortez', 'cosac', 'cosc', 'coscip', 'cost', 'coster', 'costerocongres', 'cotabamb', 'cotrin', 'couch', 'couri', 'cov', 'coviperu', 'cpa', 'cpcm', 'crcongres', 'cre', 'creacion', 'creador', 'credit', 'crhisti', 'crim', 'criminal', 'crisant', 'crisis', 'cristhi', 'cristi', 'cristian', 'cristin', 'criteri', 'critic', 'cronogram', 'crosby', 'crpcm', 'cruc', 'crucer', 'cruz', 'cruzministeri', 'csministeri', 'ctc', 'cuadr', 'cualit', 'cualqui', 'cuant', 'cuarenten', 'cuart', 'cubillus', 'cuch', 'cucirr', 'cuenc', 'cuent', 'cuev', 'cui', 'cuid', 'culmin', 'culminacion', 'culp', 'cultur', 'cultural', 'culturalespcm', 'cumbil', 'cumpl', 'cumplimient', 'cuot', 'curahuasi', 'curcin', 'curpachuasi', 'curpahuasi', 'curs', 'cusc', 'cuscocontralori', 'cuscoministeri', 'cusquiministeri', 'cuterv', 'cuturhuasi', 'cuy', 'cuyanc', 'cvelaj', 'dacion', 'daeap', 'daewin', 'damac', 'damert', 'damianministeri', 'dan', 'daniel', 'danosministeri', 'dant', 'dar', 'dari', 'darwin', 'dat', 'datem', 'dav', 'davil', 'dawin', 'daz', 'deb', 'deber', 'debid', 'decalracion', 'decim', 'decision', 'decl', 'declar', 'declaracion', 'declaratori', 'decret', 'decumental', 'dedic', 'deduc', 'defect', 'defens', 'defensor', 'defensori', 'deficienciaspcm', 'deficient', 'defin', 'definit', 'degisnacion', 'deivi', 'dej', 'delcorredor', 'deldistrit', 'deleg', 'delegacion', 'deli', 'delici', 'delit', 'delits', 'delmtc', 'delproyect', 'dem', 'demand', 'deministr', 'demor', 'den', 'deng', 'denisministeri', 'denomin', 'dentr', 'denunci', 'departament', 'departamental', 'deport', 'deposicion', 'deposit', 'deprincipi', 'deprocur', 'derech', 'deriv', 'derivacion', 'derram', 'des', 'desacuerd', 'desag', 'desagregacion', 'desaguader', 'desarchives', 'desarroll', 'desastr', 'descarg', 'descart', 'descentraliz', 'descentralizacion', 'descentralizadocongres', 'descolmatacion', 'desconcentr', 'desegur', 'desembols', 'desembolsosministeri', 'desempen', 'design', 'designacion', 'desinfecion', 'desinstalacion', 'desp', 'despach', 'despachocmariacesped', 'despacholuzcayguaray', 'despachoministeri', 'despachowalterbenavid', 'desplaz', 'desplieg', 'destiemp', 'destin', 'desvi', 'detall', 'detect', 'determin', 'deud', 'devolucion', 'devuelv', 'dextr', 'deybin', 'deyvi', 'dgiesp', 'dgp', 'dgr', 'dia', 'dialog', 'diaministeri', 'diari', 'dias', 'diaspcm', 'diaz', 'diazministeri', 'dich', 'diciembr', 'dickson', 'dict', 'dictam', 'dieg', 'dieroin', 'dieron', 'diet', 'diez', 'diferent', 'dificil', 'dificult', 'difund', 'difusion', 'digerd', 'digital', 'digitalcongres', 'dilacion', 'diligenci', 'diligent', 'dilm', 'dim', 'diner', 'dinerari', 'dini', 'dio', 'dion', 'dios', 'dip', 'diplomat', 'dipsosicion', 'direcion', 'direct', 'director', 'directoral', 'directori', 'dirig', 'dirigent', 'dirij', 'diris', 'discapac', 'disconform', 'discriminacion', 'discusion', 'diseminacion', 'disen', 'disfraz', 'disp', 'dispocision', 'dispon', 'dispondr', 'dispong', 'disposicion', 'disposit', 'dispuest', 'distanci', 'distint', 'distribucion', 'distrit', 'distrital', 'distritopcm', 'divers', 'divin', 'djp', 'dle', 'dni', 'dobl', 'doc', 'docent', 'docuemnt', 'document', 'documentacion', 'documental', 'documentosministeri', 'dolar', 'dolivar', 'domicili', 'domiciliari', 'doming', 'dominguez', 'domini', 'dominioministeri', 'don', 'donacion', 'donacionministeri', 'donat', 'donayr', 'dorote', 'dorsal', 'dos', 'doseday', 'dotacion', 'dpr', 'drag', 'dragadoministeri', 'drog', 'drogadicion', 'drogadicionministeri', 'drsa', 'drtc', 'dsivinch', 'dtealdi', 'duarez', 'dubai', 'dubprefect', 'duen', 'duli', 'dung', 'duplic', 'dur', 'durand', 'duranministeri', 'durresti', 'dyupanqui', 'dzu', 'eacat', 'ebert', 'ebried', 'ebriedadministeri', 'ecaych', 'ecer', 'echecop', 'echinch', 'ecologi', 'ecomotriz', 'econom', 'economi', 'economicaministeri', 'ecristi', 'edad', 'ede', 'edelvin', 'edgar', 'edicion', 'edifici', 'edil', 'edilbert', 'edin', 'edinson', 'edison', 'edmer', 'edmund', 'edson', 'eduard', 'educ', 'educacion', 'educativascongres', 'edvin', 'edward', 'edwars', 'edwin', 'edwinministeri', 'edy', 'efect', 'efectiviz', 'efectu', 'eficient', 'efigeni', 'efloresdc', 'efrain', 'egoavil', 'egusquiz', 'egv', 'einform', 'eirl', 'eirldefensori', 'eirlministeri', 'ejcucion', 'eje', 'ejeciucion', 'ejecucion', 'ejecut', 'ejecutor', 'ejempl', 'ejemplar', 'ejercici', 'ejercit', 'ejes', 'ejid', 'ela', 'elabor', 'elaboracion', 'eleaz', 'elecion', 'electr', 'electrificacion', 'electron', 'elem', 'eleodor', 'elev', 'eli', 'elibert', 'elinay', 'elise', 'eliseoministeri', 'elizabeth', 'ello', 'elmer', 'elmerministeri', 'elmor', 'els', 'elton', 'elvis', 'embarc', 'embrac', 'emergenciapcm', 'emergent', 'emerit', 'emerson', 'emision', 'emisor', 'emit', 'emp', 'empalm', 'empez', 'emplaz', 'emple', 'emprend', 'empres', 'empresarial', 'emp´', 'enapu', 'enatru', 'enc', 'encant', 'encapsul', 'encarg', 'encis', 'encomendadascongres', 'encontr', 'encuentr', 'encuest', 'ene', 'enel', 'ener', 'energi', 'enfermeri', 'enfrent', 'enlac', 'enmiend', 'enriap', 'enriqu', 'enser', 'entel', 'enter', 'entid', 'entidad', 'entrad', 'entreg', 'entreten', 'entrev', 'envi', 'enzo', 'eplac', 'eproan', 'equip', 'equipament', 'erick', 'erik', 'ermest', 'ernest', 'ernestor', 'erosion', 'errat', 'error', 'esat', 'escal', 'escan', 'escat', 'esclarec', 'escob', 'escobed', 'escol', 'escomarc', 'escomerc', 'escrib', 'escrit', 'escud', 'escuder', 'escuel', 'esencial', 'esepcializ', 'esiquiel', 'espaci', 'espacial', 'especi', 'especial', 'especializ', 'especialministeri', 'especif', 'especific', 'especil', 'espectr', 'esper', 'espericuet', 'espin', 'espinoz', 'espinozaministeri', 'espiritu', 'esquem', 'estabil', 'establec', 'establezc', 'estabridis', 'estacion', 'estaf', 'estampill', 'estatal', 'esteb', 'estel', 'estelaministeri', 'estimuloministeri', 'estrad', 'estrategi', 'estrech', 'estrell', 'estrict', 'estructur', 'estudi', 'estudiantil', 'etap', 'etayp', 'ethel', 'euclid', 'eufemi', 'europ', 'eusebi', 'eustaqui', 'evalaucion', 'evald', 'evalu', 'evaluacion', 'evarist', 'evaristoministeri', 'event', 'eventual', 'ever', 'evit', 'exact', 'exam', 'examen', 'examin', 'excel', 'excepcional', 'exces', 'exclu', 'exclus', 'exclusion', 'exhort', 'exig', 'exist', 'existent', 'exit', 'exoneracion', 'exp', 'expansion', 'exped', 'expedici', 'expedicion', 'expedient', 'expliqu', 'explotacion', 'expon', 'expong', 'exposicion', 'expres', 'expropiacion', 'extemporane', 'extension', 'exterior', 'extern', 'extincion', 'extint', 'extra', 'extrabaj', 'extranjer', 'extraordinari', 'ezequiel', 'fabi', 'fabric', 'facial', 'facialesministeri', 'facil', 'facilit', 'factur', 'facturacion', 'facultad', 'fag', 'fagministeri', 'falcon', 'falenci', 'fals', 'falsed', 'falsific', 'falt', 'famili', 'familiarcongres', 'fap', 'farf', 'farromequ', 'farronanministeri', 'fas', 'faucet', 'favor', 'febrer', 'fech', 'feconamach', 'fecor', 'fedat', 'federacion', 'feditraesl', 'felician', 'felicit', 'felicitacion', 'felip', 'felix', 'feliz', 'fenap', 'fenomen', 'fermin', 'ferminministeri', 'fern', 'fernandez', 'ferrenaf', 'ferreyr', 'ferrocarril', 'ferrovi', 'ferroviari', 'ferroviarti', 'fet', 'fianz', 'fibr', 'fich', 'fidel', 'fiest', 'figuered', 'figuero', 'figueroaministeri', 'fil', 'filecontralori', 'filmacion', 'fin', 'final', 'financ', 'financi', 'financier', 'finanz', 'finanzasministeri', 'fioreli', 'fiorell', 'firm', 'fiscal', 'fiscali', 'fiscaliz', 'fiscalizacion', 'fiscalministeri', 'fisclai', 'fisecom', 'fisecon', 'fisic', 'fitel', 'fitzcarrald', 'flagranci', 'flat', 'fllaulli', 'flo', 'flor', 'florenci', 'florentin', 'flori', 'flot', 'flotant', 'flu', 'fluvial', 'focaliz', 'focalizacion', 'fold', 'foli', 'foment', 'fonasb', 'fonavi', 'fond', 'fonograf', 'for', 'forens', 'form', 'formal', 'formaliz', 'formalizacion', 'format', 'formul', 'formulacion', 'fortalec', 'fotopapelet', 'fox', 'fpc', 'fpcedcf', 'fpcedcfl', 'fpcedl', 'fpcf', 'fpcm', 'fpcp', 'fpcsrprimerdesp', 'fpedcf', 'fpepd', 'fpl', 'fpm', 'fpmc', 'fprevil', 'fracion', 'franc', 'francisc', 'frank', 'frankilin', 'franklin', 'frecuenci', 'frecuent', 'fred', 'fredill', 'fredy', 'frent', 'fretam', 'fretel', 'friaj', 'fronter', 'fronteriz', 'fsavedr', 'fscedcf', 'fscedl', 'fsedcf', 'fsevilladc', 'fsuprapcedcf', 'fsuprapcedecf', 'fuent', 'fug', 'funcion', 'funcional', 'funcionari', 'fundacion', 'fundament', 'fundamental', 'futur', 'gabriel', 'gabrielavarg', 'gal', 'galvez', 'galvezministeri', 'gamarr', 'gambet', 'gambini', 'gaministeri', 'gap', 'garanti', 'garantic', 'garantiz', 'garantizarel', 'garay', 'garayministeri', 'garci', 'garciasdefensori', 'garibay', 'gariz', 'garr', 'gas', 'gast', 'gat', 'gavendan', 'gavin', 'gcmeg', 'gein', 'genar', 'gener', 'generacion', 'general', 'generalcontralori', 'georeferenci', 'geovani', 'gerard', 'gerenci', 'gerencial', 'gerent', 'gerson', 'gerv', 'gestion', 'gherly', 'ghim', 'ghs', 'gianc', 'gibson', 'gil', 'gilat', 'gilv', 'giobani', 'giordy', 'gir', 'gisel', 'gladys', 'glori', 'gmail', 'gministeri', 'gnorieg', 'gob', 'gobern', 'gobi', 'gobiern', 'gogl', 'gomer', 'gomez', 'goni', 'gonzal', 'gonzalesministeri', 'gonzalez', 'gor', 'gra', 'graci', 'gradual', 'gral', 'gran', 'grat', 'gratuit', 'gratuitoministeri', 'grau', 'grauquebr', 'grav', 'gre', 'gremi', 'grif', 'grl', 'grov', 'grruiz', 'grtc', 'grup', 'grupopcm', 'gtd', 'gtolentinodc', 'guard', 'gubernamental', 'guerr', 'guerrer', 'gueslclin', 'guev', 'gui', 'guillerm', 'guillet', 'guiom', 'guivin', 'gupioc', 'gustav', 'gutierrez', 'guzm', 'habil', 'habilescontralori', 'habilit', 'habilitacion', 'habul', 'hac', 'haci', 'hag', 'hair', 'hangar', 'hangouts', 'hans', 'hansonsanchez', 'hca', 'hchain', 'hcllhministeri', 'hco', 'heb', 'hech', 'hector', 'heiding', 'hel', 'helson', 'hendrick', 'henry', 'herbert', 'heredi', 'herm', 'hermini', 'hermitan', 'hermogen', 'hern', 'hernandez', 'hernandezministeri', 'herramient', 'herrer', 'herreraministeri', 'hidalg', 'hidroelectr', 'hidrovi', 'higr', 'hilari', 'hild', 'hirm', 'historial', 'hit', 'hli', 'hnhuministeri', 'hoj', 'holf', 'hom', 'homenaj', 'homologacion', 'honor', 'honorat', 'honori', 'hor', 'horaci', 'horari', 'horasministeri', 'horcaj', 'hospital', 'hospitalari', 'hospitalescongres', 'hospitalizacion', 'hostig', 'hotmail', 'hoy', 'hoz', 'hrs', 'huach', 'huacull', 'huait', 'hualgayoc', 'huallag', 'huallanc', 'huallay', 'huam', 'huamali', 'huamang', 'huamani', 'huamb', 'huamboy', 'huamp', 'huanangui', 'huanc', 'huancan', 'huancasay', 'huancavel', 'huancay', 'huanchac', 'huant', 'huanuc', 'huanucocongres', 'huanucoministeri', 'huaqui', 'huaracopat', 'huaral', 'huaralin', 'huarang', 'huaraz', 'huarcay', 'huaricolc', 'huarmac', 'huarmey', 'huarochiri', 'huasc', 'huascar', 'huasicac', 'huatuc', 'huaur', 'huauracongres', 'huay', 'huaycha', 'huayll', 'huayllahu', 'huayllay', 'huayt', 'huaytall', 'huert', 'huet', 'hug', 'huillc', 'humal', 'human', 'humanitari', 'humbert', 'hurt', 'hvc', 'ibarraministeri', 'iberi', 'iberoamerican', 'ica', 'icapcm', 'icgsa', 'ichoc', 'idels', 'identif', 'identific', 'ideolog', 'ider', 'idieg', 'iglesi', 'ignaci', 'ilegal', 'ilicit', 'illan', 'illanesministeri', 'ilo', 'iluc', 'imagin', 'imat', 'imaz', 'imiap', 'imiapcm', 'imiapcongres', 'imient', 'impact', 'impid', 'implement', 'implementacion', 'import', 'impresor', 'imprudent', 'impuest', 'impuls', 'impus', 'imput', 'inadecu', 'inalambr', 'inambari', 'inambri', 'inap', 'inapari', 'inca', 'incachac', 'incaut', 'incautacion', 'incis', 'inclu', 'inclus', 'inclusion', 'inclusionsocial', 'incomunicacion', 'incorporacion', 'increment', 'incumpl', 'indagacion', 'indagatori', 'indecopi', 'indemnizacion', 'independient', 'indic', 'indicacion', 'indicacongres', 'indicapcm', 'indigen', 'indiqu', 'indqu', 'industri', 'infant', 'infect', 'influenci', 'inforjm', 'inform', 'informacion', 'informacioncongres', 'informacioncontralori', 'informaciondefensori', 'informacionpcm', 'informat', 'infracion', 'infraesteuctur', 'infraestrcutur', 'infraestructur', 'infring', 'infromacion', 'ing', 'inga', 'ingenieri', 'ingres', 'inhabilit', 'inhabilitacion', 'inici', 'inicial', 'inkabor', 'inmedi', 'inmediat', 'inmuebl', 'inocencioministeri', 'inofrm', 'inpac', 'ins', 'inscripcion', 'insert', 'inspecion', 'inspector', 'instal', 'instalacion', 'insterinstitucional', 'institu', 'institucion', 'institucional', 'institucionministeri', 'institut', 'instrument', 'instrumental', 'integr', 'integracion', 'integral', 'intelectual', 'inteligent', 'intens', 'intent', 'inter', 'intercambi', 'interced', 'intercesion', 'interconect', 'interconexion', 'intercultural', 'interdistrital', 'interes', 'interinstitucional', 'interior', 'intermediacion', 'intern', 'internacional', 'international', 'internet', 'interocean', 'interoper', 'interpon', 'interposicion', 'interpret', 'interpretacion', 'interprovincial', 'interprovincialpcm', 'interregional', 'interreligi', 'interven', 'intervencion', 'intervendr', 'inti', 'intransit', 'inund', 'inversion', 'invesitg', 'investig', 'investigacion', 'investigadoces', 'investigadoju', 'inviabil', 'invit', 'invitacion', 'invoc', 'involucr', 'ioarr', 'iquit', 'iren', 'irman', 'irregul', 'irregular', 'irsa', 'irvin', 'isacministeri', 'isai', 'isalaz', 'isidr', 'isla', 'islaministeri', 'islay', 'ismael', 'ismaelarocenavidal', 'ivan', 'jacint', 'jack', 'jaen', 'jaguey', 'jaim', 'jam', 'jampi', 'jar', 'jardel', 'jardin', 'jauj', 'jaun', 'javi', 'jazmin', 'jbat', 'jdpo', 'jean', 'jecut', 'jef', 'jempets', 'jeny', 'jeri', 'jeronim', 'jerusal', 'jesus', 'jesusministeri', 'jguizadodj', 'jhan', 'jhe', 'jherimu', 'jherimy', 'jherson', 'jheseni', 'jho', 'jhon', 'jhonat', 'jhonministeri', 'jhony', 'jhordys', 'jhuamanch', 'jhul', 'jihuallanc', 'jil', 'jim', 'jimb', 'jimbr', 'jimen', 'jimenez', 'jimy', 'jiron', 'jlozan', 'jmendoz', 'jnunez', 'joan', 'joc', 'joel', 'johan', 'john', 'johny', 'jon', 'jonath', 'jonel', 'jord', 'jorg', 'jorsin', 'jos', 'josefin', 'josep', 'joseph', 'josu', 'josuevab', 'jovel', 'juan', 'jubilacion', 'judicial', 'judicialesministeri', 'jueg', 'juev', 'julc', 'juli', 'juliac', 'juni', 'junin', 'junincongres', 'juninpcm', 'junior', 'junt', 'jurid', 'jurisdicion', 'just', 'justici', 'justician', 'justific', 'justinian', 'juvenal', 'jvasquezb', 'kardex', 'kari', 'karl', 'kenedy', 'keni', 'keny', 'kespinozadj', 'kevin', 'kim', 'kimbiri', 'kintiarin', 'koel', 'laberint', 'labor', 'laboral', 'laborespcm', 'lac', 'lacalz', 'lacustr', 'lagun', 'laim', 'lalibertadj', 'lamadr', 'lamay', 'lambayecan', 'lambayequ', 'lambraspat', 'lamp', 'lanfranc', 'lanzamient', 'laster', 'laud', 'lauricoch', 'lav', 'lay', 'laypv', 'laz', 'lazar', 'lbanc', 'lchec', 'lclv', 'leandr', 'lecion', 'leg', 'legal', 'legaldespach', 'legisl', 'legitim', 'legu', 'leimebamb', 'len', 'lenadr', 'lenin', 'leon', 'leonard', 'leonci', 'leoni', 'leonid', 'leopold', 'lerc', 'lesion', 'lev', 'levan', 'levant', 'lewis', 'ley', 'leyton', 'lib', 'liberacion', 'liberatoministeri', 'libert', 'libertadcongres', 'libr', 'licenci', 'licitacion', 'licneci', 'licupis', 'lid', 'lim', 'limac', 'limadespach', 'limaexpresageneral', 'limapcm', 'limb', 'limit', 'limpiez', 'lin', 'linar', 'linc', 'line', 'lineal', 'lineamient', 'ling', 'liquid', 'liquidacion', 'list', 'literal', 'liz', 'llacz', 'llaj', 'llam', 'llan', 'llant', 'llap', 'llat', 'lleg', 'llenp', 'llev', 'llic', 'lluc', 'llusc', 'lluviasministeri', 'lmas', 'lno', 'loayz', 'lobaton', 'lobatonministeri', 'locacion', 'local', 'locenci', 'locroj', 'loenci', 'log', 'logist', 'logr', 'longinot', 'longitudinal', 'lop', 'lopez', 'lopezministeri', 'lorenz', 'lorenzopcm', 'loret', 'loron', 'lot', 'loyol', 'loyolaministeri', 'loz', 'lozan', 'lperez', 'lpinedo', 'lpn', 'lsandoval', 'lsimeon', 'ltuest', 'luch', 'luci', 'lucian', 'lucysand', 'lug', 'lugar', 'luis', 'lumedin', 'lun', 'luriganch', 'luz', 'luzuriag', 'luzuriagaministeri', 'lvasquez', 'lynch', 'mabiental', 'mac', 'macahuachi', 'macat', 'maced', 'mach', 'machac', 'machacuay', 'macroeconom', 'madr', 'magist', 'magistral', 'maguin', 'mail', 'maizministeri', 'majluf', 'mal', 'malag', 'malagaministeri', 'malaqui', 'maldon', 'malecon', 'mali', 'mallqui', 'mallquiministeri', 'malpart', 'mamani', 'man', 'manan', 'manayay', 'mancill', 'mancomun', 'mandujan', 'manej', 'maner', 'manifestacion', 'manifiest', 'manil', 'maniobr', 'manriqu', 'manriqueministeri', 'manserich', 'mantar', 'manten', 'mantien', 'mantill', 'manual', 'manuel', 'mapg', 'maquer', 'maquin', 'maquinari', 'maranon', 'maravi', 'marc', 'marcel', 'marcelian', 'march', 'marchandministeri', 'marchen', 'marcon', 'mardoni', 'marg', 'mari', 'maribel', 'marin', 'mariscal', 'marit', 'maritim', 'marleniu', 'marlon', 'marquez', 'marrer', 'marsell', 'mart', 'marth', 'martin', 'martinez', 'martinezministeri', 'marx', 'marz', 'masg', 'masiseaministeri', 'masiv', 'mast', 'mat', 'matarani', 'mataranipcm', 'mate', 'mateir', 'mateoministeri', 'mater', 'materi', 'material', 'mati', 'matosministeri', 'matriz', 'mau', 'mauv', 'max', 'maxim', 'maximilian', 'may', 'maycoll', 'mayl', 'mayll', 'mayn', 'maynasministeri', 'mayoministeri', 'mayor', 'mayoresministeri', 'mayuriag', 'maz', 'mazamari', 'mazamaricongres', 'mazuel', 'mbartol', 'mcribiller', 'mcruz', 'mcustodi', 'mda', 'mdavil', 'mdc', 'mdchp', 'mdep', 'mdh', 'mdk', 'mdlf', 'mdll', 'mdlp', 'mdm', 'mdp', 'mds', 'mdsb', 'mdsjl', 'mdslcongres', 'mdst', 'mdu', 'mecan', 'mecg', 'mechayin', 'med', 'medi', 'medianasempres', 'mediant', 'medic', 'medicament', 'medicin', 'medicion', 'medin', 'medran', 'mef', 'meg', 'megaproyect', 'megaterminal', 'meji', 'mejor', 'melci', 'melendez', 'melg', 'melgarej', 'melis', 'melodi', 'melvin', 'memor', 'memorial', 'men', 'mencion', 'mendez', 'mendiol', 'mendivil', 'mendoz', 'mendozaministeri', 'menor', 'mensajeri', 'mensajeriadiges', 'mensual', 'mepres', 'mer', 'merc', 'mercanci', 'mercant', 'merch', 'merit', 'mes', 'mesadepartesvirtual', 'met', 'metal', 'meteri', 'metodolog', 'metodologi', 'metplast', 'metr', 'metrolitan', 'metropolitan', 'mets', 'mez', 'mezaministeri', 'mezonesministeri', 'mfumagallidj', 'mgallard', 'mgcruz', 'mhz', 'mic', 'michael', 'michel', 'microsoft', 'miembr', 'miercol', 'miguel', 'mil', 'milagr', 'mill', 'millar', 'millon', 'milton', 'mimbel', 'min', 'minan', 'minay', 'minedu', 'miner', 'mineral', 'minim', 'ministeri', 'ministerial', 'ministr', 'mins', 'minsaministeri', 'minut', 'mir', 'miraflor', 'mirand', 'mirg', 'miroques', 'mirth', 'mism', 'mit', 'mitig', 'mix', 'mixt', 'mlizan', 'mnavarr', 'mochic', 'mochumi', 'mod', 'modal', 'model', 'modemsministeri', 'modernizacion', 'modest', 'modif', 'modific', 'modificacion', 'modificatori', 'modul', 'modular', 'mogollonministeri', 'moh', 'mois', 'moisesgui', 'molecular', 'molinopamp', 'monetari', 'monitore', 'monitori', 'monorriel', 'mont', 'montalv', 'montez', 'montoy', 'monzon', 'moquegu', 'mor', 'moral', 'morant', 'mori', 'morill', 'moron', 'morropon', 'moscos', 'mot', 'motiv', 'motociclet', 'motoriz', 'mototax', 'movers', 'movil', 'movilizacion', 'movist', 'moy', 'mpa', 'mpardofiguero', 'mpcallaod', 'mpch', 'mpfn', 'mpfpcmpd', 'mpfpcvd', 'mph', 'mpichiling', 'mpreci', 'mproy', 'mps', 'mpsc', 'mpsi', 'mpylo', 'mtc', 'mtcministeri', 'mudanz', 'muj', 'mult', 'multaspcm', 'multianual', 'multidistrital', 'multimodal', 'multipartidari', 'multipl', 'multiproposit', 'multisectorial', 'mun', 'munc', 'muncipal', 'mund', 'mundial', 'mundialcontralori', 'munic', 'municipal', 'munoz', 'munozministeri', 'muriel', 'muse', 'musical', 'mverd', 'mypes', 'mzamor', 'nacinal', 'nacion', 'nacional', 'nacionalcongres', 'nacionalministeri', 'nacionalpcm', 'nacionministeri', 'nacor', 'nam', 'nancyurteagal', 'nap', 'naranjit', 'narcisoministeri', 'narciz', 'natali', 'nativ', 'natural', 'naturalez', 'nav', 'navarr', 'navegacion', 'navier', 'nazarioministeri', 'ncongres', 'ncontralori', 'ncp', 'neces', 'necesari', 'necesit', 'negat', 'negligent', 'negoci', 'negociacion', 'negr', 'negret', 'neiverild', 'nelson', 'nepen', 'neptali', 'nestor', 'netreg', 'neyr', 'neztor', 'nicanor', 'nicasi', 'nicefor', 'nick', 'nicol', 'niet', 'nil', 'nilm', 'nin', 'ninabamb', 'nivel', 'njimenez', 'nmarchandj', 'noe', 'nolbert', 'nombr', 'nombramient', 'nomin', 'noren', 'noriel', 'norm', 'normal', 'normapcm', 'normat', 'noroest', 'noroesteministeri', 'nort', 'norted', 'norvraempcm', 'not', 'notici', 'notif', 'notifacion', 'notifc', 'notific', 'notificacion', 'notificadoministeri', 'notificaion', 'notifpcmd', 'noviembr', 'nro', 'nternacional', 'nubi', 'nucle', 'nuev', 'nugent', 'nulid', 'numer', 'numeral', 'nunez', 'nversion', 'n°ca', 'n°contralori', 'n°defensori', 'n°ministeri', 'n°pcm', 'oas', 'objet', 'oblig', 'obligatori', 'obra', 'obras', 'obrer', 'observ', 'observacion', 'observatori', 'obten', 'obtencion', 'ocasion', 'ocdecongres', 'ocej', 'ocho', 'ochocaministeri', 'oci', 'ocm', 'ocopamp', 'ocros', 'octav', 'octubr', 'ocup', 'ocurr', 'odlim', 'oef', 'oest', 'ofeli', 'ofic', 'ofici', 'oficial', 'oficin', 'oficiocongres', 'ogp', 'ojed', 'olaeche', 'olayche', 'olaz', 'olind', 'oliv', 'ollant', 'ollantaytamb', 'oller', 'olortegui', 'olortin', 'omar', 'omision', 'omont', 'once', 'ong', 'onofreministeri', 'onp', 'opcion', 'ope', 'oper', 'operacion', 'operacional', 'operat', 'opinion', 'opiniondespach', 'oportun', 'oprtun', 'optic', 'opticacongres', 'optim', 'optimiz', 'oracion', 'orden', 'ordinari', 'orellan', 'organ', 'organiz', 'organizacion', 'organizacional', 'orientacion', 'orienting', 'orig', 'origin', 'original', 'originari', 'origonal', 'orland', 'oro', 'oroncoy', 'oros', 'orosc', 'oroy', 'orr', 'orteg', 'ortegal', 'ortiz', 'oscar', 'osce', 'osed', 'osi', 'osinergmin', 'osiptel', 'ositr', 'ositranpcm', 'osler', 'osori', 'ostent', 'oswald', 'otarol', 'otazu', 'otificacion', 'otinian', 'oto', 'otorg', 'otrosdespach', 'otrosministeri', 'otrospcm', 'otuzc', 'ovidi', 'oxapamp', 'oxigen', 'oyol', 'oyon', 'oyotun', 'pabellon', 'pabl', 'pacahu', 'pacay', 'pach', 'pachacay', 'pachan', 'pachec', 'pachill', 'pachite', 'pacient', 'pacificopcm', 'pacministeri', 'pacrapich', 'pact', 'pad', 'padr', 'pag', 'pagador', 'pagoministeri', 'pais', 'paispcm', 'pait', 'pajarill', 'pajuel', 'pajueloministeri', 'pal', 'palaci', 'palc', 'palcaz', 'paler', 'pallasc', 'palm', 'palmer', 'palomin', 'palp', 'palz', 'pamp', 'pampaents', 'pampamarc', 'panaif', 'panamerican', 'pancorb', 'pandemi', 'panduroministeri', 'panel', 'pango', 'paol', 'pap', 'papelet', 'paquet', 'paquirachinministeri', 'parader', 'parc', 'pard', 'pared', 'parej', 'pariacot', 'parlamentari', 'parom', 'parqu', 'part', 'particip', 'participacion', 'participari', 'particular', 'parur', 'pas', 'pasajer', 'pasajerosdefensori', 'pasc', 'pascopcm', 'pascualministeri', 'pase', 'pataz', 'pati', 'pativilc', 'patri', 'patriascongres', 'patrici', 'patrimoni', 'pats', 'pauc', 'paucarministeri', 'paucarpat', 'paul', 'paulin', 'pavimentacion', 'paz', 'pcastr', 'pcm', 'pcmpcm', 'pdf', 'pdta', 'pdu', 'peaj', 'peatonal', 'pecuniari', 'ped', 'pedr', 'pedromois', 'peligr', 'pen', 'penadill', 'penal', 'penaloz', 'penaministeri', 'pendient', 'penl', 'pension', 'pensionari', 'pepcm', 'pequen', 'peralt', 'perci', 'percovich', 'percy', 'perd', 'perez', 'perezministeri', 'peric', 'perifer', 'period', 'perit', 'perjuici', 'permanent', 'permis', 'permit', 'person', 'personal', 'pertinent', 'peru', 'peruan', 'peruanapcm', 'perucongres', 'perupcm', 'peruvi', 'pes', 'pescador', 'petitori', 'petroler', 'pia', 'pichacani', 'pichacat', 'pichanaqui', 'pichiling', 'pichis', 'picon', 'picot', 'picoyministeri', 'pid', 'pideministeri', 'piedr', 'pier', 'piez', 'pimping', 'pin', 'pined', 'pip', 'pir', 'pircpcm', 'pis', 'pisc', 'pist', 'pisuqui', 'piur', 'piuracongres', 'piuraministeri', 'piw', 'plac', 'plan', 'planificarpcm', 'planill', 'plant', 'plataform', 'play', 'plaz', 'plen', 'plieg', 'plp', 'pmcongres', 'pmhf', 'pmi', 'pmo', 'pmormontoy', 'pnic', 'pobl', 'poblacion', 'pobladocongres', 'poblador', 'pod', 'pol', 'poligon', 'polit', 'pom', 'pomahuac', 'pomaministeri', 'pon', 'ponc', 'poncianoministeri', 'pondient', 'pop', 'popular', 'porcentaj', 'porr', 'port', 'portatil', 'portd', 'ports', 'portuari', 'portuariaministeri', 'portugal', 'portun', 'porven', 'porvident', 'pos', 'posalaz', 'posesion', 'posibil', 'posibl', 'posicion', 'posit', 'postal', 'postalministeri', 'posterg', 'postergacion', 'posterior', 'posteriorministeri', 'postor', 'postul', 'potabl', 'potent', 'potocarrer', 'pozuz', 'practicaj', 'practiqu', 'prad', 'pre', 'precipit', 'precis', 'precisesi', 'precision', 'precit', 'precom', 'predi', 'prediopcm', 'prefecion', 'preferencial', 'preferent', 'pregunt', 'prehospitalari', 'prelimin', 'preliminar', 'preliminarministeri', 'prens', 'prent', 'preocup', 'preocupacion', 'preparacion', 'preparartori', 'preparatori', 'prepublicacion', 'pres', 'prescripcion', 'presenci', 'presencial', 'present', 'presentacion', 'presidencial', 'president', 'prest', 'prestacion', 'prestador', 'prestam', 'presunt', 'presupuest', 'presupuestal', 'presupuestari', 'pretel', 'preven', 'prevencion', 'prevent', 'previ', 'prevision', 'previsional', 'previst', 'prim', 'primer', 'princiop', 'princip', 'principal', 'principeministeri', 'principi', 'princord', 'prioric', 'prioriz', 'priorizacion', 'priv', 'pro', 'probatori', 'problem', 'problemat', 'proced', 'proces', 'procesal', 'procur', 'procuraduri', 'produc', 'producion', 'product', 'productor', 'productorasministeri', 'profesional', 'profund', 'program', 'programacion', 'programat', 'progres', 'prohibicion', 'proinversion', 'promocion', 'promov', 'promuev', 'promulg', 'promulgacion', 'pronatel', 'pronatelministeri', 'pronatelpcm', 'pront', 'pronunci', 'propagacion', 'propied', 'propon', 'propong', 'proporcion', 'propuest', 'proregion', 'prorrog', 'prosegu', 'protecion', 'proteg', 'protest', 'protocol', 'prots', 'prov', 'provedor', 'provi', 'provicional', 'provicnial', 'provident', 'provinci', 'provincial', 'provinical', 'provision', 'provisional', 'provoncial', 'proxim', 'proyect', 'proyectoscongres', 'proyet', 'prudenci', 'prueb', 'psg', 'pta', 'public', 'publicacion', 'publicacongres', 'publicaministeri', 'publicaspcm', 'publicitari', 'publicocongres', 'puc', 'pucahuarangaministeri', 'pucallp', 'pucayacu', 'puchc', 'pucp', 'pucurguay', 'pucurhuay', 'pucusan', 'pud', 'puebl', 'pued', 'puent', 'puert', 'puest', 'puet', 'puinahu', 'pul', 'pulveriz', 'pun', 'puncu', 'punt', 'punultim', 'puquin', 'puri', 'putumay', 'puvallp', 'pvdcongres', 'pvn', 'pym', 'qapac', 'quant', 'quebr', 'quej', 'quell', 'queved', 'quez', 'quillabamb', 'quillabambapcm', 'quincuagesim', 'quinech', 'quint', 'quintan', 'quinteministeri', 'quinu', 'quiroz', 'quirozlozanoev', 'quiscabamb', 'quisp', 'quispeministeri', 'quiulacochapcm', 'racion', 'radi', 'radial', 'radiodifusion', 'radiodifusor', 'radioelectr', 'rafael', 'rafaeloministeri', 'rai', 'railway', 'raimondi', 'ram', 'ramal', 'ramirez', 'ramirezministeri', 'ramon', 'ramonministeri', 'randol', 'rap', 'raul', 'raulmachacamamani', 'ray', 'raymundoministeri', 'rayoministeri', 'razon', 'rchavarri', 'rdnfo', 'reactiv', 'reactivacion', 'real', 'realic', 'realidad', 'realiz', 'realizacion', 'realzi', 'reanud', 'reanudacion', 'reapertur', 'reasignacion', 'rebec', 'rec', 'recategorizacion', 'recepcion', 'receptacion', 'receptacionministeri', 'recib', 'recibi', 'recient', 'reciproc', 'recl', 'reclam', 'recod', 'recog', 'recomend', 'recomendacion', 'recomiend', 'recomposicion', 'reconfromacion', 'reconoc', 'reconsider', 'reconstrucion', 'recopil', 'recopilacion', 'record', 'rectificacion', 'recuay', 'recuayministeri', 'recuerd', 'recuper', 'recuperacion', 'recur', 'recurr', 'recurrent', 'recurs', 'red', 'rednac', 'reducion', 'reductor', 'ref', 'refer', 'referent', 'refernt', 'refineri', 'refir', 'reformulacion', 'reg', 'regimen', 'region', 'regional', 'regionalizacion', 'regionalministeri', 'regioncongres', 'registr', 'regl', 'reglament', 'regres', 'regsitr', 'regul', 'regulacion', 'regulariz', 'regulatori', 'rehabilit', 'rehabilitacion', 'reincoporacion', 'reincorpoacion', 'reincorporacion', 'reinici', 'reit', 'reiter', 'rej', 'relacin', 'relacion', 'relat', 'relatori', 'relev', 'remision', 'remit', 'remitent', 'remiti', 'remplaz', 'ren', 'rendicion', 'rendimient', 'rengif', 'renov', 'renovacion', 'renunci', 'renz', 'reparacion', 'repart', 'repatriacion', 'repect', 'repetidor', 'report', 'reposicion', 'repotenciacion', 'repres', 'represent', 'representacion', 'reprogram', 'reprogramacion', 'republ', 'republicacion', 'republicacontralori', 'republicaministeri', 'repuest', 'requej', 'requen', 'requer', 'requerier', 'requermient', 'requier', 'requir', 'requisit', 'rerent', 'rerferent', 'res', 'rescat', 'reserv', 'resguard', 'resident', 'residu', 'resolu', 'resolucion', 'resolut', 'resolv', 'respald', 'respect', 'respet', 'respond', 'respons', 'respuest', 'restablec', 'restitucion', 'restricion', 'restring', 'resuelt', 'resuelv', 'result', 'ret', 'reten', 'retencion', 'retir', 'retizministeri', 'retom', 'retorn', 'retras', 'reubicacion', 'reun', 'reunion', 'revalid', 'revill', 'revis', 'revision', 'revoc', 'revocatori', 'rey', 'reymund', 'reynaministeri', 'reynos', 'reynosoministeri', 'rgarciau', 'riberen', 'ribeth', 'ric', 'ricapaministeri', 'ricard', 'rich', 'richard', 'ricr', 'riesg', 'rimac', 'rincipi', 'rio', 'rioj', 'rios', 'risc', 'rit', 'ritez', 'riv', 'rivadeneiroministeri', 'river', 'riveraministeri', 'riveth', 'rmeit', 'rncontralori', 'rngr', 'rob', 'robert', 'robinson', 'robl', 'roblesministeri', 'roc', 'roch', 'rochaministeri', 'rodaj', 'rodolf', 'rodrig', 'rodriguez', 'rodriguezcongres', 'rodur', 'rof', 'roj', 'rojasministeri', 'rol', 'rolin', 'rom', 'romel', 'romer', 'ronald', 'ronaldin', 'rond', 'ronquilloministeri', 'roqu', 'roquecongres', 'ror', 'ros', 'rosal', 'rosalesministeri', 'rosali', 'rosel', 'roselministeri', 'rosi', 'rospligiosi', 'roy', 'rsorian', 'rub', 'rubi', 'rubini', 'rubr', 'ruc', 'rudi', 'ruedaministeri', 'rufinoministeri', 'ruiz', 'rural', 'rut', 'ruth', 'sac', 'sacministeri', 'sacpcm', 'saenz', 'saet', 'sagoll', 'sair', 'sajamiministeri', 'sal', 'salamanc', 'salaverry', 'salaz', 'saldan', 'saldivarministeri', 'saldosministeri', 'salin', 'salomon', 'salon', 'salubr', 'salud', 'saludministeri', 'salvador', 'salvadorministeri', 'salvatierr', 'sam', 'saministeri', 'san', 'sanacion', 'sanchez', 'sanchezministeri', 'sancion', 'sandi', 'sandoval', 'sandri', 'saneamient', 'sanid', 'sanitari', 'saniveni', 'sansion', 'sant', 'santamari', 'santan', 'santiag', 'santibanez', 'santill', 'santillan', 'sanyt', 'sap', 'sar', 'saramiriz', 'saramirz', 'saravi', 'saritanayhuam', 'sarmient', 'sat', 'satelit', 'satip', 'saturnin', 'saul', 'schutz', 'scontralori', 'scruz', 'sdn', 'sdobr', 'sebasti', 'sec', 'secret', 'secretari', 'sector', 'sectorial', 'sed', 'seg', 'segovi', 'segreg', 'segu', 'seguimient', 'segun', 'segund', 'segur', 'seguraministeri', 'sel', 'selecion', 'selv', 'semej', 'semestr', 'semestral', 'semin', 'seminari', 'semu', 'senal', 'senas', 'senor', 'sensibilizacion', 'sentenci', 'septiembr', 'septim', 'serafin', 'serp', 'serpost', 'serv', 'servici', 'servidor', 'sesent', 'sesion', 'setgund', 'setiembr', 'sext', 'sextasesion', 'sexual', 'sgf', 'sgp', 'sgpcm', 'shad', 'shady', 'shiping', 'shun', 'shupingahu', 'shupluy', 'siaf', 'sid', 'sierr', 'sig', 'sigaministeri', 'sign', 'signific', 'siguient', 'sihu', 'silipu', 'silv', 'silvestr', 'silvi', 'simeon', 'similar', 'similarescongres', 'simon', 'simonministeri', 'simons', 'simpl', 'simplific', 'simultane', 'sinac', 'sinarahu', 'sinch', 'sindical', 'sindicat', 'siri', 'sirv', 'sistem', 'situ', 'situacion', 'situacional', 'situacionpcm', 'skype', 'snat', 'snip', 'sns', 'soa', 'soat', 'sob', 'sobrecartes', 'sobrecost', 'sobrevivient', 'soci', 'social', 'socialcongres', 'socializacion', 'socied', 'socioambiental', 'socontralori', 'socot', 'sol', 'solan', 'solar', 'soled', 'solicit', 'solicitud', 'solicity', 'solict', 'solidar', 'soliocit', 'solis', 'solorzan', 'solucion', 'soni', 'sonor', 'soplin', 'soport', 'soriaministeri', 'sorian', 'sos', 'sosten', 'sot', 'sotel', 'sotomayor', 'sotoministeri', 'sra', 'sres', 'srl', 'srta', 'stad', 'stalin', 'stel', 'suarez', 'sub', 'subcripcion', 'subgrup', 'subprefetur', 'subsan', 'subsecretari', 'subsidi', 'subsidiospcm', 'subtram', 'suces', 'such', 'sucr', 'sudamerican', 'suel', 'sufr', 'sufragi', 'sugerent', 'sugier', 'sujet', 'sullan', 'sullanacontralori', 'sum', 'sumat', 'suministr', 'sunafil', 'sunat', 'sup', 'supayaku', 'super', 'superintendent', 'superintent', 'superior', 'superv', 'supervis', 'supervision', 'supervisor', 'suplementari', 'supr', 'suprapronvincial', 'supraprovincial', 'supraprovncial', 'suprem', 'supuest', 'sur', 'surc', 'surf', 'surministeri', 'surquill', 'susalud', 'susan', 'suscit', 'suscrib', 'suscripcion', 'suscrit', 'suspend', 'suspension', 'sustent', 'sustentacion', 'sustentatori', 'sustentoministeri', 'sutr', 'suym', 'sven', 'tab', 'tablet', 'tabletcongres', 'tablets', 'tabletsministeri', 'tacabamb', 'tacn', 'tacnacongres', 'tadeoministeri', 'tafurministeri', 'tahuamanu', 'tajet', 'tal', 'talarapcm', 'tall', 'talled', 'taller', 'tamb', 'tambogrand', 'tambr', 'tampoc', 'tanatologi', 'tantaranch', 'tapi', 'tapullim', 'tarapot', 'tarazon', 'tarazonaministeri', 'tard', 'tarif', 'tarjet', 'tarm', 'tarmaministeri', 'tas', 'taxi', 'taxis', 'taxist', 'tayacaj', 'tcap', 'tcapministeri', 'teams', 'techin', 'tecnic', 'tecnolog', 'tedy', 'telecom', 'telecomun', 'telefon', 'telefoni', 'televis', 'television', 'televisiony', 'telloministeri', 'tem', 'temaspcm', 'temat', 'temporal', 'tempran', 'tenaud', 'tencic', 'tenient', 'teodol', 'teodor', 'teofil', 'ter', 'terc', 'tercer', 'teres', 'termin', 'terminal', 'terminals', 'terren', 'terrestr', 'terrestreministeri', 'territori', 'territorial', 'terron', 'tez', 'therry', 'thorndik', 'ticlacay', 'ticon', 'tid', 'tiemp', 'tigr', 'ting', 'tint', 'tintay', 'tip', 'tipicoch', 'tir', 'titul', 'titular', 'toch', 'toled', 'tom', 'tomang', 'tor', 'torat', 'toribi', 'torr', 'torrecongres', 'tortug', 'total', 'tournav', 'to°', 'tpms', 'tpy', 'trabaj', 'trabajadorministeri', 'trabajoministeri', 'trabuc', 'tradicional', 'trafic', 'tram', 'tramars', 'tramit', 'tranport', 'transervic', 'transfer', 'transferent', 'transit', 'transitori', 'transjyr', 'transmision', 'transparent', 'transport', 'transurban', 'trasandin', 'trasferent', 'trasl', 'traslad', 'trasnport', 'trat', 'tratamient', 'trav', 'travel', 'travies', 'trayect', 'trayectori', 'traz', 'trebol', 'tren', 'tres', 'tribunal', 'trigesim', 'trimestr', 'triunf', 'troch', 'trompeter', 'truci', 'trujill', 'trujilloministeri', 'tuanam', 'tuc', 'tuct', 'tuctoministeri', 'tuest', 'tumb', 'tumbayministeri', 'tunel', 'turi', 'turism', 'turist', 'turp', 'ubald', 'ubic', 'ubilluz', 'ucan', 'ucayali', 'uchiz', 'uci', 'ugels', 'uit', 'ulis', 'ullo', 'ultim', 'une', 'unen', 'unesc', 'uni', 'unic', 'unid', 'unidad', 'unific', 'union', 'unipersonal', 'unitari', 'univers', 'unoministeri', 'urban', 'urcos', 'urcoscontralori', 'uret', 'urgenci', 'urgenciacongres', 'urgenciaministeri', 'urgent', 'urgentecongres', 'urgenteministeri', 'uriart', 'urrac', 'ursuaministeri', 'urubamb', 'urviol', 'usad', 'usan', 'uso', 'usopcm', 'usted', 'usuari', 'utcubam', 'utcubamb', 'uterv', 'utiliz', 'utm', 'vaci', 'val', 'valdeiglesi', 'valderram', 'valdez', 'valdivi', 'valdiviaministeri', 'valdivies', 'valenci', 'valentin', 'valentinministeri', 'valenzuel', 'valer', 'valerian', 'valid', 'validacion', 'vall', 'valor', 'valorizacion', 'valverd', 'vandal', 'vanes', 'vaouch', 'var', 'varg', 'vari', 'varon', 'vasquez', 'vda', 'vecin', 'vecinal', 'vecinalescongres', 'vecinalespcm', 'veg', 'vehicul', 'vehicular', 'vehicularescongres', 'veh´´icul', 'veintiseis', 'vel', 'velard', 'velasquez', 'veliz', 'veloc', 'ven', 'venc', 'vencimient', 'venctanill', 'vener', 'venezolan', 'ventanill', 'ventanillaministeri', 'ventilacion', 'verac', 'verastegui', 'verd', 'vered', 'veri', 'verific', 'verificacion', 'veron', 'vert', 'vez', 'vhf', 'via', 'viabil', 'viabiliz', 'viaj', 'vial', 'vialcongres', 'vialpcm', 'vias', 'vic', 'vicegobern', 'vicent', 'vicepresident', 'vicevers', 'victor', 'victori', 'victorian', 'victorministeri', 'vid', 'vidal', 'vidart', 'vide', 'viden', 'videoconferent', 'viej', 'vien', 'viend', 'viern', 'vietel', 'vigenci', 'vigent', 'vigil', 'vilc', 'vilcabamb', 'vill', 'villacort', 'villafan', 'villalob', 'villalt', 'villamont', 'villanuev', 'villanuevaministeri', 'villaordun', 'villarministeri', 'villeg', 'vincul', 'vio', 'violenci', 'violet', 'virg', 'virtual', 'virtualministeri', 'virtualpcm', 'virtud', 'viru', 'visit', 'vist', 'visual', 'visualizacion', 'vitart', 'vitoc', 'viv', 'vivian', 'viviend', 'vmoren', 'vorpor', 'vouch', 'vouvh', 'vraem', 'vraemcongres', 'vuel', 'vulner', 'vulneracion', 'wald', 'walt', 'waq', 'warc', 'wascon', 'wbajoner', 'web', 'wells', 'wgs', 'whilm', 'wild', 'wilfred', 'william', 'williams', 'willm', 'willy', 'wilm', 'wilson', 'wily', 'wrg', 'wriverag', 'wsbo', 'xinterocean', 'xvi', 'yamunaqu', 'yamunaqueministeri', 'yanahu', 'yanc', 'yap', 'yapan', 'yarihuam', 'yau', 'yauli', 'yelsin', 'yelson', 'yerim', 'yesel', 'yga', 'yilbert', 'yla', 'yol', 'yonel', 'yoni', 'yony', 'yosel', 'yovani', 'yucr', 'yul', 'yulin', 'yumantay', 'yungay', 'yunior', 'yur', 'yurapag', 'yuri', 'yurimagu', 'yusel', 'zamallo', 'zamat', 'zambran', 'zancud', 'zand', 'zarat', 'zarumill', 'zarumillacongres', 'zea', 'zegarr', 'zet', 'zevall', 'zevallosministeri', 'zik', 'zom', 'zon', 'zonal', 'zuluet', '°despach', '°di', '°diministeri', '°fcpv', '°fiscali', '°fislapd', '°fpc', '°fpcedcf', '°fpcv', '°fpd', '°fpl', '°juzg', '°ministeri', '°pcm', '´rovincial', 'ºfpc', 'ºfpcedcf']\n",
      "[[0 0 0 ... 0 0 0]\n",
      " [0 0 0 ... 0 0 0]\n",
      " [0 0 0 ... 0 0 0]\n",
      " ...\n",
      " [0 0 0 ... 0 0 0]\n",
      " [0 0 0 ... 0 0 0]\n",
      " [0 0 0 ... 0 0 0]]\n"
     ]
    }
   ],
   "source": [
    "count_vectorizer = CountVectorizer(\n",
    "        analyzer='word',\n",
    "        tokenizer=tokenize,\n",
    "        lowercase=True,\n",
    "        stop_words=spanish_stopwords,\n",
    "        decode_error='ignore'\n",
    "    )\n",
    "word_count_vector = count_vectorizer.fit_transform(subject)\n",
    "print(count_vectorizer.get_feature_names())\n",
    "print(word_count_vector.toarray())"
   ]
  },
  {
   "cell_type": "code",
   "execution_count": null,
   "metadata": {
    "pycharm": {
     "is_executing": true
    }
   },
   "outputs": [],
   "source": [
    "# Aplicando TF-IDF"
   ]
  },
  {
   "cell_type": "code",
   "execution_count": 17,
   "metadata": {
    "pycharm": {
     "is_executing": true
    }
   },
   "outputs": [
    {
     "name": "stdout",
     "output_type": "stream",
     "text": [
      "[[0. 0. 0. ... 0. 0. 0.]\n",
      " [0. 0. 0. ... 0. 0. 0.]\n",
      " [0. 0. 0. ... 0. 0. 0.]\n",
      " ...\n",
      " [0. 0. 0. ... 0. 0. 0.]\n",
      " [0. 0. 0. ... 0. 0. 0.]\n",
      " [0. 0. 0. ... 0. 0. 0.]]\n"
     ]
    }
   ],
   "source": [
    "tfidf_transformer=TfidfTransformer(use_idf=True) \n",
    "tfidf_transformer.fit(word_count_vector)\n",
    "X=tfidf_transformer.transform(word_count_vector)\n",
    "print(X.toarray())"
   ]
  },
  {
   "cell_type": "markdown",
   "metadata": {},
   "source": [
    "### 3. Metodología: Usamos la metodología definida en clase."
   ]
  },
  {
   "cell_type": "code",
   "execution_count": 18,
   "metadata": {
    "pycharm": {
     "is_executing": true
    }
   },
   "outputs": [],
   "source": [
    "#### 3.1 Modelamiento\n",
    "#### 3.2 Evaluación\n"
   ]
  },
  {
   "cell_type": "markdown",
   "metadata": {},
   "source": [
    "#### 3.6 Modelamiento"
   ]
  },
  {
   "cell_type": "code",
   "execution_count": 19,
   "metadata": {
    "pycharm": {
     "is_executing": true
    }
   },
   "outputs": [],
   "source": [
    "from sklearn.cluster import KMeans\n",
    "from sklearn import metrics\n",
    "from sklearn.metrics import pairwise_distances_argmin_min "
   ]
  },
  {
   "cell_type": "code",
   "execution_count": 20,
   "metadata": {
    "pycharm": {
     "is_executing": true
    }
   },
   "outputs": [
    {
     "data": {
      "image/png": "[encoded data removed]",
      "text/plain": [
       "<Figure size 504x288 with 1 Axes>"
      ]
     },
     "metadata": {},
     "output_type": "display_data"
    }
   ],
   "source": [
    "# Calculando el número de clúster adecuado: Scrore es ka distancia interna\n",
    "\n",
    "numClus = range(1, 5) # Con rango de 1, 5  solo creamos 4 cluster\n",
    "kmeans = [KMeans(n_clusters=i,max_iter=600, algorithm = 'auto',random_state=99) for i in numClus]\n",
    "kmeans\n",
    "score = [kmeans[i].fit(X).score(X) for i in range(len(kmeans))]\n",
    "score\n",
    "plt.plot(numClus,score)\n",
    "plt.xlabel('Número de Clúster')\n",
    "plt.ylabel('Score')\n",
    "plt.title('Curva de Inflexión')\n",
    "plt.show()"
   ]
  },
  {
   "cell_type": "code",
   "execution_count": null,
   "metadata": {
    "pycharm": {
     "is_executing": true
    }
   },
   "outputs": [],
   "source": [
    "## Como se puede ver la silueta esta  muy suavizada y no se nota un codo claro en la grafica por lo que seguiremos analaizando \n",
    "## otros indicadores"
   ]
  },
  {
   "cell_type": "code",
   "execution_count": 21,
   "metadata": {
    "pycharm": {
     "is_executing": true
    }
   },
   "outputs": [
    {
     "name": "stdout",
     "output_type": "stream",
     "text": [
      "2 clústeres:\n",
      "Inercia: 3284.14282356041\n",
      "Silueta: 0.07782798098091763\n",
      "\n",
      "\n",
      "3 clústeres:\n",
      "Inercia: 3147.1256087776064\n",
      "Silueta: 0.10202590299625967\n",
      "\n",
      "\n",
      "4 clústeres:\n",
      "Inercia: 3080.4314139019716\n",
      "Silueta: 0.1262660498704794\n",
      "\n",
      "\n"
     ]
    }
   ],
   "source": [
    "# Nos fijamos de los indicadores de clustering:\n",
    "\n",
    "ctdDf = int(0.1*dataFramePre.shape[0])\n",
    "cluster = [kmeans[i].predict(X) for i in range(len(kmeans))]\n",
    "\n",
    "for i in range(1,4):   # FIJARSE EN EL NRO DE CLUSTER QUE ESTAN CREANDO EN ESTE CASO 4 \n",
    "    print(str(i+1)+' clústeres:')\n",
    "    print('Inercia: '+str(kmeans[i].inertia_))\n",
    "    print('Silueta: '+str(metrics.silhouette_score(X, cluster[i], metric='euclidean',sample_size=ctdDf)))\n",
    "    print(\"\\n\")"
   ]
  },
  {
   "cell_type": "code",
   "execution_count": null,
   "metadata": {},
   "outputs": [],
   "source": [
    "#Elejimos el mejor cluster en este caso 4, menor distancia interna y mayor distancia externa"
   ]
  },
  {
   "cell_type": "code",
   "execution_count": 22,
   "metadata": {},
   "outputs": [
    {
     "data": {
      "text/plain": [
       "array([2, 0, 0, ..., 0, 0, 0])"
      ]
     },
     "execution_count": 22,
     "metadata": {},
     "output_type": "execute_result"
    }
   ],
   "source": [
    "best_Model = kmeans[3]\n",
    "cluster_predict = best_Model.predict(X)\n",
    "cluster_predict"
   ]
  },
  {
   "cell_type": "code",
   "execution_count": 23,
   "metadata": {},
   "outputs": [
    {
     "data": {
      "text/plain": [
       "3747"
      ]
     },
     "execution_count": 23,
     "metadata": {},
     "output_type": "execute_result"
    }
   ],
   "source": [
    "# nro de filas cluster_predict\n",
    "\n",
    "len(cluster_predict)"
   ]
  },
  {
   "cell_type": "code",
   "execution_count": 24,
   "metadata": {},
   "outputs": [
    {
     "data": {
      "text/plain": [
       "3747"
      ]
     },
     "execution_count": 24,
     "metadata": {},
     "output_type": "execute_result"
    }
   ],
   "source": [
    "# nro de filas de la data debe coincidir con la anterior\n",
    "\n",
    "len(dataFramePre)"
   ]
  },
  {
   "cell_type": "code",
   "execution_count": 25,
   "metadata": {},
   "outputs": [
    {
     "data": {
      "text/html": [
       "<div>\n",
       "<style scoped>\n",
       "    .dataframe tbody tr th:only-of-type {\n",
       "        vertical-align: middle;\n",
       "    }\n",
       "\n",
       "    .dataframe tbody tr th {\n",
       "        vertical-align: top;\n",
       "    }\n",
       "\n",
       "    .dataframe thead th {\n",
       "        text-align: right;\n",
       "    }\n",
       "</style>\n",
       "<table border=\"1\" class=\"dataframe\">\n",
       "  <thead>\n",
       "    <tr style=\"text-align: right;\">\n",
       "      <th></th>\n",
       "      <th>PARAMETROS</th>\n",
       "      <th>UNIDAD_ORG</th>\n",
       "      <th>RESPUESTA</th>\n",
       "      <th>nro_Cluster</th>\n",
       "    </tr>\n",
       "  </thead>\n",
       "  <tbody>\n",
       "    <tr>\n",
       "      <td>0</td>\n",
       "      <td>NOTIFICA DISPOSICIÓN , REFERENTE AL CASO N°300...</td>\n",
       "      <td>PROCURADURIA PUBLICA</td>\n",
       "      <td>ATENDIDAS Y DERIVADAS AL ÁREA DE SEGURIDAD PUB...</td>\n",
       "      <td>2.0</td>\n",
       "    </tr>\n",
       "    <tr>\n",
       "      <td>3</td>\n",
       "      <td>FISCALÍA SUPRAPROVINCIAL CORPORATIVA ESPECIALI...</td>\n",
       "      <td>DESPACHO MINISTERIAL</td>\n",
       "      <td>OFICIO DIRIGIDO A LA FISCALÍA SUPRAPROVINCIAL ...</td>\n",
       "      <td>1.0</td>\n",
       "    </tr>\n",
       "    <tr>\n",
       "      <td>4</td>\n",
       "      <td>FISCALÍA SUPRAPROVINCIAL CORPORATIVA ESPECIALI...</td>\n",
       "      <td>DESPACHO MINISTERIAL</td>\n",
       "      <td>ANGELIA ELIZABETH ZULOAGA BAYES - FISCAL ADJUN...</td>\n",
       "      <td>0.0</td>\n",
       "    </tr>\n",
       "    <tr>\n",
       "      <td>5</td>\n",
       "      <td>REMITE VAOUCHER DE PAGO POR PRINCIPIO DE OPORT...</td>\n",
       "      <td>PROCURADURIA PUBLICA</td>\n",
       "      <td>NOTIFICACIONES ASIGNADAS AL ÁREA PENAL , CONDU...</td>\n",
       "      <td>3.0</td>\n",
       "    </tr>\n",
       "    <tr>\n",
       "      <td>7</td>\n",
       "      <td>LA FISCALIA SUPRAPRONVINCIAL CORPORATIVA ESPEC...</td>\n",
       "      <td>DESPACHO MINISTERIAL</td>\n",
       "      <td>ANGELA ELIZABETH ZULOAGA BAYES - FISCAL ADJUNT...</td>\n",
       "      <td>0.0</td>\n",
       "    </tr>\n",
       "  </tbody>\n",
       "</table>\n",
       "</div>"
      ],
      "text/plain": [
       "                                          PARAMETROS            UNIDAD_ORG  \\\n",
       "0  NOTIFICA DISPOSICIÓN , REFERENTE AL CASO N°300...  PROCURADURIA PUBLICA   \n",
       "3  FISCALÍA SUPRAPROVINCIAL CORPORATIVA ESPECIALI...  DESPACHO MINISTERIAL   \n",
       "4  FISCALÍA SUPRAPROVINCIAL CORPORATIVA ESPECIALI...  DESPACHO MINISTERIAL   \n",
       "5  REMITE VAOUCHER DE PAGO POR PRINCIPIO DE OPORT...  PROCURADURIA PUBLICA   \n",
       "7  LA FISCALIA SUPRAPRONVINCIAL CORPORATIVA ESPEC...  DESPACHO MINISTERIAL   \n",
       "\n",
       "                                           RESPUESTA  nro_Cluster  \n",
       "0  ATENDIDAS Y DERIVADAS AL ÁREA DE SEGURIDAD PUB...          2.0  \n",
       "3  OFICIO DIRIGIDO A LA FISCALÍA SUPRAPROVINCIAL ...          1.0  \n",
       "4  ANGELIA ELIZABETH ZULOAGA BAYES - FISCAL ADJUN...          0.0  \n",
       "5  NOTIFICACIONES ASIGNADAS AL ÁREA PENAL , CONDU...          3.0  \n",
       "7  ANGELA ELIZABETH ZULOAGA BAYES - FISCAL ADJUNT...          0.0  "
      ]
     },
     "execution_count": 25,
     "metadata": {},
     "output_type": "execute_result"
    }
   ],
   "source": [
    "# Agregamos una columna a nuestra data\n",
    "dataFramePre[\"nro_Cluster\"] = pd.Series(cluster_predict)\n",
    "dataFramePre.head(5)"
   ]
  },
  {
   "cell_type": "code",
   "execution_count": 26,
   "metadata": {},
   "outputs": [],
   "source": [
    "dataFramePre.to_excel(\"excel/output.xlsx\")  "
   ]
  },
  {
   "cell_type": "markdown",
   "metadata": {},
   "source": [
    "### 3.- Esamblamos los pasos  seguidos anteriormente"
   ]
  },
  {
   "cell_type": "code",
   "execution_count": 4,
   "metadata": {},
   "outputs": [],
   "source": [
    "### Metodo que limpia los textos "
   ]
  },
  {
   "cell_type": "code",
   "execution_count": 27,
   "metadata": {},
   "outputs": [],
   "source": [
    "def test_model(model, X_train, ngram_range, use_idf):\n",
    "    count_vectorizer = CountVectorizer(\n",
    "        analyzer='word',\n",
    "        tokenizer=tokenize,\n",
    "        lowercase=True,\n",
    "        stop_words=spanish_stopwords,\n",
    "        decode_error='ignore',\n",
    "        ngram_range=ngram_range\n",
    "    )\n",
    "\n",
    "    text_cluster = Pipeline([\n",
    "        ('vect', count_vectorizer),  # strings to token integer counts\n",
    "        ('tfidf', TfidfTransformer(use_idf=use_idf)),  # integer counts to weighted TF-IDF scores\n",
    "        ('cls', model)  # train on TF-IDF vectors w/ Naive Bayes classifier\n",
    "    ])\n",
    "\n",
    "    text_cluster.fit(X_train)\n",
    "   \n",
    "    return text_cluster"
   ]
  },
  {
   "cell_type": "code",
   "execution_count": 33,
   "metadata": {},
   "outputs": [
    {
     "data": {
      "text/plain": [
       "['results_models_test/k_means_cluster.joblib']"
      ]
     },
     "execution_count": 33,
     "metadata": {},
     "output_type": "execute_result"
    }
   ],
   "source": [
    "model = KMeans(n_clusters=4,max_iter=600, algorithm = 'auto',random_state=99)\n",
    "model_predict = test_model(model, subject, (1, 1), True)\n",
    "joblib.dump(model_predict, \"results_models_test/k_means_cluster.joblib\")"
   ]
  }
 ],
 "metadata": {
  "kernelspec": {
   "display_name": "Python 3",
   "language": "python",
   "name": "python3"
  },
  "language_info": {
   "codemirror_mode": {
    "name": "ipython",
    "version": 3
   },
   "file_extension": ".py",
   "mimetype": "text/x-python",
   "name": "python",
   "nbconvert_exporter": "python",
   "pygments_lexer": "ipython3",
   "version": "3.7.4"
  }
 },
 "nbformat": 4,
 "nbformat_minor": 2
}
